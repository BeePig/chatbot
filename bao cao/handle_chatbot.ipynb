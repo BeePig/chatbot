{
 "cells": [
  {
   "cell_type": "code",
   "execution_count": 1,
   "metadata": {},
   "outputs": [],
   "source": [
    "# -*- coding: utf-8 -*-\n",
    "from underthesea import pos_tag\n",
    "from underthesea import word_tokenize\n",
    "from underthesea import sent_tokenize\n",
    "from underthesea import chunk\n",
    "from underthesea import ner\n",
    "import csv\n",
    "import collections\n"
   ]
  },
  {
   "cell_type": "code",
   "execution_count": 2,
   "metadata": {},
   "outputs": [],
   "source": [
    "\n",
    "# sample = \"cuốn sách Hướng dẫn nấu ăn giá bao nhiêu tiền\"\n",
    "# pos_tag(sample)\n",
    "# ner(sample)\n",
    "# ner(\"tác giả Khánh có những cuốn sách nào?\")\n",
    "# ner(\"tác giả john có những cuốn sách nào?\")\n",
    "# ner(\"tác giả John có những cuốn sách nào?\")"
   ]
  },
  {
   "cell_type": "code",
   "execution_count": 3,
   "metadata": {},
   "outputs": [],
   "source": [
    "def getDataFromCSV(filename=\"data.csv\"):\n",
    "    with open(filename, \"r\") as f:\n",
    "        a = [{k: v for k, v in row.items()}\n",
    "            for row in csv.DictReader(f, skipinitialspace=True)] \n",
    "    return a\n",
    "listbook = getDataFromCSV()"
   ]
  },
  {
   "cell_type": "code",
   "execution_count": 4,
   "metadata": {},
   "outputs": [],
   "source": [
    "def getBookFromName(name):\n",
    "    list_ans = []\n",
    "    list_book_return = []\n",
    "#     print(category.lower().split())\n",
    "#     print(len(category.lower().split()))\n",
    "    search_split = name.lower().split()\n",
    "    try:\n",
    "        if len(search_split) == 1:\n",
    "            for book in listbook:\n",
    "                if search_split[0] in book[\"name\"].lower():\n",
    "                    list_ans.append(book[\"name\"])\n",
    "        else:\n",
    "            for word in search_split:\n",
    "                for book in listbook:\n",
    "                    if word in book[\"name\"].lower():\n",
    "                        list_ans.append(book[\"name\"])\n",
    "    #         print(list_ans)\n",
    "        if len(list_ans) > 0:\n",
    "            list_ans=collections.Counter(list_ans)\n",
    "    #             print(list_ans.most_common()[0][1])\n",
    "            most_occurence_number = list_ans.most_common()[0][1]\n",
    "    #             print(most_occurence_number)\n",
    "            list_ans_ = [i for i in list_ans.most_common() if int(i[1]) >= most_occurence_number]\n",
    "\n",
    "            for bookname in list_ans_:\n",
    "                for book in listbook:\n",
    "                    if bookname[0] in book[\"name\"]:\n",
    "                        list_book_return.append(book)\n",
    "            return list_book_return\n",
    "        else:\n",
    "            return []\n",
    "    except Exception as e:\n",
    "        print(e)\n",
    "        return []\n",
    "\n",
    "# getBookFromName(\"zone\")\n",
    "# getBookFromName(\"workbxxxook firxxxst\")\n",
    "# getBookFromName(\"workbook first\")"
   ]
  },
  {
   "cell_type": "code",
   "execution_count": 5,
   "metadata": {},
   "outputs": [],
   "source": [
    "def getBookFromCategory(category):\n",
    "    list_ans = []\n",
    "    list_book_return = []\n",
    "    search_split = category.lower().split()\n",
    "    try:\n",
    "        if len(search_split) == 1:\n",
    "            for book in listbook:\n",
    "                if search_split[0] in book[\"product_category\"].lower():\n",
    "                    list_ans.append(book[\"name\"])\n",
    "        else:\n",
    "            for word in search_split:\n",
    "                for book in listbook:\n",
    "                    if word in book[\"product_category\"].lower():\n",
    "                        list_ans.append(book[\"name\"])\n",
    "    #         print(list_ans)\n",
    "        if len(list_ans) > 0:\n",
    "            list_ans=collections.Counter(list_ans)\n",
    "    #             print(list_ans.most_common()[0][1])\n",
    "            most_occurence_number = list_ans.most_common()[0][1]\n",
    "    #             print(most_occurence_number)\n",
    "            list_ans_ = [i for i in list_ans.most_common() if int(i[1]) >= most_occurence_number]\n",
    "\n",
    "            for bookname in list_ans_:\n",
    "                for book in listbook:\n",
    "                    if bookname[0] in book[\"name\"]:\n",
    "                        list_book_return.append(book)\n",
    "            return list_book_return\n",
    "        else:\n",
    "            return []\n",
    "    except Exception as e:\n",
    "        print(e)\n",
    "        return []\n",
    "# getBookFromCategory(\"book \")\n",
    "# getBookFromCategory(\"animal\")"
   ]
  },
  {
   "cell_type": "code",
   "execution_count": 6,
   "metadata": {},
   "outputs": [],
   "source": [
    "def getBookFromAuthor(author):\n",
    "    list_ans = []\n",
    "    list_book_return = []\n",
    "#     print(category.lower().split())\n",
    "#     print(len(category.lower().split()))\n",
    "    search_split = author.lower().split()\n",
    "    try:\n",
    "        if len(search_split) == 1:\n",
    "            for book in listbook:\n",
    "                if search_split[0] in book[\"author\"].lower():\n",
    "                    list_ans.append(book[\"name\"])\n",
    "        else:\n",
    "            for word in search_split:\n",
    "                for book in listbook:\n",
    "                    if word in book[\"author\"].lower():\n",
    "                        list_ans.append(book[\"name\"])\n",
    "    #         print(list_ans)\n",
    "        if len(list_ans) > 0:\n",
    "            list_ans=collections.Counter(list_ans)\n",
    "    #             print(list_ans.most_common()[0][1])\n",
    "            most_occurence_number = list_ans.most_common()[0][1]\n",
    "    #             print(most_occurence_number)\n",
    "            list_ans_ = [i for i in list_ans.most_common() if int(i[1]) >= most_occurence_number]\n",
    "\n",
    "            for bookname in list_ans_:\n",
    "                for book in listbook:\n",
    "                    if bookname[0] in book[\"name\"]:\n",
    "                        list_book_return.append(book)\n",
    "            return list_book_return\n",
    "        else:\n",
    "            return []\n",
    "    except Exception as e:\n",
    "        print(e)\n",
    "        return []\n",
    "# getBookFromAuthor(\"Tanya \")"
   ]
  },
  {
   "cell_type": "code",
   "execution_count": 7,
   "metadata": {},
   "outputs": [
    {
     "data": {
      "text/plain": [
       "[{'name': 'My First Learn to Write Workbook',\n",
       "  'currency': 'USD',\n",
       "  'sale_price': '5.65',\n",
       "  'availability_status': 'Available to ship in 1-2 days.',\n",
       "  'product_category': \"Books > Children's Books > Education & Reference\",\n",
       "  'url': 'https://www.amazon.com/My-First-Learn-Write-Workbook/dp/1641526270/ref=zg_bs_books_6/147-9572115-3188209?_encoding=UTF8&psc=1&refRID=45P9F6MKNPCPTQK243YR',\n",
       "  'author': 'Karolina P'},\n",
       " {'name': 'First Grade Big Fun Workbook',\n",
       "  'currency': 'USD',\n",
       "  'sale_price': '9.38',\n",
       "  'availability_status': 'In Stock.',\n",
       "  'product_category': \"Books > Children's Books > Growing Up & Facts of Life\",\n",
       "  'url': 'https://www.amazon.com/First-Grade-Activity-HighlightsTM-Workbooks/dp/1629798649/ref=zg_bs_books_41/147-9572115-3188209?_encoding=UTF8&psc=1&refRID=45P9F6MKNPCPTQK243YR',\n",
       "  'author': 'Karolina P'}]"
      ]
     },
     "execution_count": 7,
     "metadata": {},
     "output_type": "execute_result"
    }
   ],
   "source": [
    "getBookFromCategory(\"book \")\n",
    "getBookFromAuthor(\"Tanya \")\n",
    "getBookFromName(\"workbook first\")"
   ]
  },
  {
   "cell_type": "code",
   "execution_count": 49,
   "metadata": {},
   "outputs": [],
   "source": [
    "def getFromAuthor(user_input):\n",
    "    chunk_list = ner(user_input)\n",
    "    search_seed = \"\"\n",
    "    for words in chunk_list:\n",
    "        if (words[1]== 'Np'):\n",
    "            search_seed += words[0] + \" \"\n",
    "#     print(search_seed)\n",
    "    return (getBookFromAuthor(search_seed))\n",
    "#     print(getBookFromAuthor(\"Brown\"))\n",
    "# getFromAuthor(\"Tác giả Khanh có những tác phẩm nào\")\n",
    "# getFromAuthor(\"Nhà văn Morgan có sách nào\")"
   ]
  },
  {
   "cell_type": "code",
   "execution_count": 60,
   "metadata": {},
   "outputs": [],
   "source": [
    "def getListCategory():\n",
    "    category = []\n",
    "    for book in listbook:\n",
    "        temp = book['product_category'].replace(\">\", \"\").replace(\"&\",\"\").replace(\"'s\",\"\").replace(\",\",\"\")\n",
    "        category+=temp.split()\n",
    "    return set(category)\n",
    "def outputProcess(listbook):\n",
    "    try:\n",
    "        if listbook != None:\n",
    "            for book in listbook:\n",
    "                print(\"Tên sách: \"+book['name'])\n",
    "                print(\"Giá: \" + book['sale_price'] + \" \"+book['currency'])\n",
    "                print(\"Tác giả:\"+book['author'])\n",
    "                print(\"Thể loại: \"+book['product_category'])\n",
    "                print(\"_\"*32)\n",
    "            pass\n",
    "    except Exception as e:\n",
    "        print(e)\n",
    "        return None"
   ]
  },
  {
   "cell_type": "code",
   "execution_count": 61,
   "metadata": {},
   "outputs": [
    {
     "name": "stdout",
     "output_type": "stream",
     "text": [
      "Tên sách: How to Draw 101 Animals Paperback\n",
      "Giá: 4.99 USD\n",
      "Tác giả:Jessica Morgan\n",
      "Thể loại: Books > Children's Books > Arts, Music & Photography\n",
      "________________________________\n",
      "Tên sách: Scratch and Sparkle Unicorns Activity Book\n",
      "Giá: 3.23 USD\n",
      "Tác giả:Floyd Brown\n",
      "Thể loại: Books > Children's Books > Arts, Music & Photography\n",
      "________________________________\n"
     ]
    }
   ],
   "source": [
    "categories = ['Activities', 'Animals', 'Arts', 'Bibles', 'Books',\n",
    " 'Children', 'Christian', 'Cookbooks', 'Crafts', 'Criticism',\n",
    " 'Design', 'Education', 'Facts', 'Fiction', 'Food', 'Games',\n",
    " 'Gardening', 'Genre', 'Government', 'Growing Up', 'History',\n",
    " 'Hobbies', 'Home', 'International', 'Landscape', 'Life',\n",
    " 'Literature', 'Living', 'Music', 'Photography', 'Politics',\n",
    " 'Reference', 'Regional', 'Sciences', 'Social', 'Wine', 'Cookbooks, Food & Wine']\n",
    "def getFromCategory(user_input):\n",
    "    list_categories_in_input = [i for i in categories if i.lower() in user_input.lower()]\n",
    "    if len(list_categories_in_input) == 0:\n",
    "        return 0\n",
    "    else:\n",
    "#         print(\" \".join(list_categories_in_input))\n",
    "        return (getBookFromCategory(\" \".join(list_categories_in_input)))\n",
    "\n",
    "# outputProcess(getFromAuthor(\"Nhà văn Morgan có sách nào\"))\n",
    "sample1=\"các sách thể loại children  Music?\"\n",
    "sample2=\"các sách loại home?\"\n",
    "outputProcess(getFromCategory(sample1))"
   ]
  },
  {
   "cell_type": "code",
   "execution_count": 66,
   "metadata": {},
   "outputs": [
    {
     "name": "stdout",
     "output_type": "stream",
     "text": [
      "[('bao nhiêu', 'P', 'B-NP'), ('tiền', 'N', 'B-NP'), ('cuốn', 'Nc', 'B-NP'), ('sách', 'N', 'B-NP'), ('God Gave', 'Np', 'B-NP')]\n",
      "Tên sách: God Gave Us Easter\n",
      "Giá: 6.82 USD\n",
      "Tác giả:Kadeen H.\n",
      "Thể loại: Books > Children's Books > Literature & Fiction\n",
      "________________________________\n"
     ]
    }
   ],
   "source": [
    "def getFromName(user_input):\n",
    "    blacklist = [\"bao nhiêu\", \"tiền\", \"giá của\", \"tác phẩm\", \"cuốn\" ,\"sách\", \"thế\", \"giá\", \"là\"]\n",
    "    pchunk = chunk(user_input)\n",
    "#     print(pchunk)\n",
    "    list_names_in_input = [i[0] for i in pchunk if i[0].lower() not in blacklist] \n",
    "    if len(list_names_in_input) == 0 :\n",
    "        return None\n",
    "    else:\n",
    "        return (getBookFromName(\" \".join(list_names_in_input)))\n",
    "        \n",
    "outputProcess(getFromName(\"bao nhiêu tiền cuốn sách God Gave\"))"
   ]
  },
  {
   "cell_type": "code",
   "execution_count": null,
   "metadata": {},
   "outputs": [],
   "source": []
  },
  {
   "cell_type": "code",
   "execution_count": null,
   "metadata": {},
   "outputs": [],
   "source": []
  }
 ],
 "metadata": {
  "kernelspec": {
   "display_name": "Python 3",
   "language": "python",
   "name": "python3"
  },
  "language_info": {
   "codemirror_mode": {
    "name": "ipython",
    "version": 3
   },
   "file_extension": ".py",
   "mimetype": "text/x-python",
   "name": "python",
   "nbconvert_exporter": "python",
   "pygments_lexer": "ipython3",
   "version": "3.7.6"
  }
 },
 "nbformat": 4,
 "nbformat_minor": 4
}
